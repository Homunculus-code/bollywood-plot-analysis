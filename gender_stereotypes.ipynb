{
  "cells": [
    {
      "cell_type": "markdown",
      "metadata": {
        "id": "view-in-github",
        "colab_type": "text"
      },
      "source": [
        "<a href=\"https://colab.research.google.com/github/Homunculus-code/bollywood-plot-analysis/blob/main/gender_stereotypes.ipynb\" target=\"_parent\"><img src=\"https://colab.research.google.com/assets/colab-badge.svg\" alt=\"Open In Colab\"/></a>"
      ]
    },
    {
      "cell_type": "code",
      "execution_count": null,
      "metadata": {
        "id": "e7VRAiAQgjNt"
      },
      "outputs": [],
      "source": [
        "!pip install spacy\n",
        "!pip install gender-guesser\n",
        "#!pip install transformers\n",
        "!pip install spacy-transformers\n",
        "!spacy download en_core_web_lg\n",
        "!spacy download en_core_web_md\n",
        "!pip install sentence_transformers\n",
        "!wget https://raw.githubusercontent.com/Rayraegah/adjectives/master/data/_.csv\n",
        "!wget https://raw.githubusercontent.com/junhua/IPOD/master/data/gazetteer.csv\n",
        "!wget https://raw.githubusercontent.com/Homunculus-code/bollywood-plot-analysis/main/female_adjectives.csv\n",
        "\n",
        "kinship_terms =[\n",
        "    'father', 'daughter-in-law', 'mother', 'uncle', 'mother-in-law', 'brother-in-law','son','aunt','son-in-law','sister-in-law', 'daughter','nephew', 'brother-in-law', 'daughter-in-law', 'brother', 'niece', 'wife', 'husband', 'ex-wife', 'ex-husband', 'girlfriend', 'boyfriend', 'ex-girlfriend', 'ex-boyfriend', 'spouse'\n",
        "]\n",
        "path1 = '/content/_.csv'\n",
        "path2 = '/content/gazetteer.csv'\n",
        "\n",
        "\n",
        "import spacy, csv"
      ]
    },
    {
      "cell_type": "code",
      "source": [
        "text = '''Widowed and ailing Savitri Choudhury lives a wealthy lifestyle along with her son, Anil, in a palatial mansion in India. She knows that Anil is only waiting for her to die so that he can inherit the wealth and refuses to give him any money. The Diwan convinces Anil to mend his ways, get married, and patch-up with his mom. Shortly thereafter, Anil does appear to have mended his ways, gets involved in charity, and even introduces a young woman named Deepali to his mom. Deepali moves into the mansion and looks after Savitri so much so that Savitri decides to make her the sole beneficiary of her estate. What Savitri does not know is that Anil has hired Deepali to act as his fiancée, and that Deepali herself is not who she claims to be, and is actually in love with a local horse-riding peasant, Ajit, whose father was convicted of killing Savitri's husband, and soon Ajit himself will be arrested by the police for having an affair with and then killing a woman named Sita.'''\n",
        "text2 = '''Rohit is an aspiring singer who works as a salesman in a car showroom, run by Malik (Dalip Tahil). One day he meets Sonia Saxena (Ameesha Patel), daughter of Mr. Saxena (Anupam Kher), when he goes to deliver a car to her home as her birthday present.'''\n",
        "text3 = '''A chance meeting between an Assistant Scientist, Shekar, and an established stage dancer and singer, Anjana, results in love. While Shekar has a mother who lives separately, Anjana has been orphaned at an early age. Shekar's mother approves of Anjana and both get married. Anjana stops her involvement in dancing and singing, and both spent the next several months in relative harmony. Then Anjana finds that Shekar is spending more and more time in the laboratory than with her, and she decides to take up dancing and singing, which does not sit well with Shekar. Arguments ensue, and both decide to live separately. When Shekar's mother comes to visit Shekar, both he and Anjana compromise to live together. This, they think, would provide relief to their mother in her old age. Living together, they discover the missing spice in their marriage at the end. '''\n",
        "text4 = '''Rohan Bhatia, a fresh MBA graduate, has a clash of ideologies with his father Dalip Bhatia on what career he should pursue. Rohan has set his eyes on being a stockbroker in Mumbai because that's the quickest way to make big money. He goes to Mumbai with his best friend Abhay, a fellow MBA graduate, and on their first night out he meets Neha Kapoor and the two have a war of words; for the first time in his life his advances have been rejected by a girl. Rohan, Abhay and 28 new stockbrokers start work at Bombay Bulls but after three months only the 10 best will survive and get permanent placements. Rohan pitches clients but doesn't climb the charts; he remains near the bottom, so he uses the help of Vikram Khurrana, the firm's best stockbroker, to climb the charts faster. Vikram introduces Rohan to Amrita Singhania, a wealthy society lady who is instantly taken by Rohan's boyish charm; the same night he also bumps into Neha and this time he doesn't budge until she agrees to go on a date with him. The next day, Amrita invites Rohan to a beach party where she tries to seduce him with her sultry body.\n",
        "\n",
        "Rohan takes Neha to a spiritual date and courts her further until she completely falls in love with him. At the same time he pursues Amrita, who agrees to let him make trades for her and upon making her a large profit she invites him to celebrate in Goa. The same weekend is Rohan's 25th birthday and Neha comes to Goa to surprise him, but finds him in bed with Amrita. Rohan can't remember what happened, he was too drunk; heartbroken Neha storms away. In Mumbai, Rohan makes two more attempts to apologize but Neha won't give him another chance. The distance between them grows. He also has a showdown with Dalip and Abhay. Rohan gets more entwined into Amrita and Vikram's worlds but misses and longs for Neha. At Neha's best friend Shivangi's engagement to Abhay, Rohan publicly begs Neha for forgiveness; she tells him she's pregnant but doesn't need him in her life. Rohan discovers Amrita and Vikram were just using him for their selfish plans; he has a showdown with Amrita and Vikram and gets thrown out of the firm. Rohan apologizes to his father for all his wrongdoings, then goes to Neha's house in Delhi to ask to be a part of their child's life only to discover that she's aborted their child. She wasn't ready for a child and was only having it to hurt him by keeping their child away from him. Rohan is shattered; Neha apologizes and asks him back in her life. Heartbroken, they embrace and accept each other for their flaws. '''\n",
        "\n",
        "text5 = '''\n",
        "A large crowd gathers outside the Verona Arena in Italy to watch the performance of rockstar Jordan. Despite being mobbed, he storms onto the stage in a fit of rage and starts strumming his guitar.\n",
        "\n",
        "A flashback reveals the story of Jordan, whose real name is Janardan Jakhar (\"JJ\"), a Jat boy from Delhi. He is studying at Hindu College and dreams of being a rockstar like Jim Morrison, for which he is often laughed at by his friends. Khatana, the canteen owner, tells JJ that one thing common among all artists is a life-altering heartbreak. JJ jokingly tells himself that since that hasn't happened yet, he won't be able to reach his idol's status. He watches the dance performance of Heer Kaul, a beautiful girl from St. Stephen's College during a contest, and overhears that she is the \"perfect-heartbreaking-machine\". Remembering Khatana's words, he decides to propose to her but suffers humiliation, which he sees as the perfect method for enduring the heartbreak needed for stardom. Over time, he and Heer become good friends, often going on adventures and engaging in risky behaviour.\n",
        "\n",
        "Heer marries a man named Jai in Kashmir, after which the couple moves to Prague. During this time, she develops feelings for JJ and coins the nickname \"Jordan\" for him. JJ finds himself thrown out by his brothers for allegedly stealing family money. He takes refuge for two months in the nearby Nizamuddin Dargah, singing qawwalis, and then moves into Khatana's home. Ustaad Jameel Khan, a renowned classical musician, hears JJ's singing at the Dargah and prompts Dhingra, the owner of \"Platinum Records,\" to sign him. Sheena, a journalist, interviews JJ and hints to him that Dhingra is sending artists to Prague for a Europe tour. JJ volunteers to work there, in the hopes of reuniting with Heer.\n",
        "\n",
        "Heer, meanwhile, suffers from continuous health problems. She meets JJ in Prague and they reconnect, but when he tries to profess his love for her, Heer, being married, spurns him. Despite this, their relationship gets intimate, and Heer feels guilty. As soon as JJ's Prague tours are over, she leaves him. JJ tries to visit her one last time before departing to India but is arrested on trespassing charges filed by Heer's husband. While JJ is being taken away, he sees Heer collapse. Upon being deported back to India, he is overwhelmed by the attention he receives, and clashes with the media and the Indian police, resulting in a jail term. The event garners enough publicity to make Dhingra decide to release JJ's recordings; the album does well, throwing JJ into the limelight.\n",
        "\n",
        "After being released, JJ terminates his contract with Dhingra, embarks on a country-wide tour, and finally morphs fully into \"Jordan\", the rockstar he had aspired to be. He turns bitter, arrogant, and lonely as time goes on, but remains a highly popular artist.\n",
        "\n",
        "Jordan meets Heer's younger sister, Mandy, during one of his concerts, and she asks him to help Heer, who has been diagnosed with aplastic anaemia. Jordan's presence causes Heer to somewhat recover and her blood level rise. He starts disregarding his musical obligations to spend more time with her, and Khatana, his manager now, asks Heer to persuade Jordan to attend his concerts. Heer does so, and Jordan resumes his tour with his first concert at Kangra, Himachal Pradesh. Upon returning, Heer's health deteriorates again. She slips into a coma and is discovered to be pregnant with Jordan's child. When Mandy informs Jordan of Heer's condition, he leaves one of his shows midway and goes to her hospital bed. He tries to wake her up but she remains non-responsive. Jordan realises that she will not survive and goes numb. Heer dies offscreen, leaving Jordan in a permanent state of grief, who finally achieves international stardom like his idol.\n",
        "\n",
        "The film cuts back to the concert in Verona and while performing, Jordan sees a vision of a smiling Heer walking towards him. The film ends with a line from the poet Rumi's poem that the film began with; translated, it means: \"Away, beyond all concepts of wrong-doing and right-doing, there is a field. I will meet you there.\"\n",
        "'''\n",
        "\n",
        "text6 = '''Damadamm is about the life of Sameer, a writer who writes scripts for Indian films. He works with his girlfriend, Shikha at the industry. Shikha is totally over-possessive over Sameer, and suspects him all the time. Due to a speciality, Sameer cannot dump her either. He has no idea how to get rid of Shikha's suspicion, until one day her family invites her over for a relatives' wedding. She leaves for a few weeks, and until then, Sameer gets his total freedom. He drinks; parties and even flirts with random girls. One day, a new girl Sanjana enters into his office and it is love at first sight for both of them. The two are then assigned to work together on a film, but Sameer has to be careful, as Sanjana is his boss' younger sister. Whilst working together, Sameer and Sanjana start to fall in love.\n",
        "\n",
        "During this, Sameer even starts to ignore Shikha's phone calls. Getting fed up, Shikha arrives back home, when she sees how close Sameer and Sanjana have gotten within 15 days she gets jealous, causing an argument with Sameer and the two break up. She then starts friendship with Sameer, after his boss arranges for Sameer and Sanjana's wedding. But before the wedding Sameer eventually realises he truly loved Shikha and cannot live without her, so he breaks the marriage with Sanjana. Therefore, his boss sacks him, whereas Sameer replies that he would rather pick his girlfriend Shikha then his work. Sameer manages to convince Shikha to give him another chance.\n",
        "\n",
        "Later, the boss rehires both Sameer and Shikha and even throws them a party'''\n",
        "\n",
        "text7 = '''The film tells the story of a girl named Tanya, who learns that she was adopted by Colonel Ravi Kapoor and his wife when he rescued her from a burning hospital. This leads Tanya to go on a journey in search of her biological parents.\n",
        "\n",
        "The first man she visits is the ruler of a patriarchal district in Rajasthan, Abhay Rana Pratap Singh, where female infanticide is common. However, it is revealed that Manjuri, brought up as Singh's niece, is his actual daughter. Her nanny had hidden the truth from everyone and even Rana Pratap had not known that his wife had given birth to a baby girl before dying in a fire.\n",
        "\n",
        "Tanya then travels to Turkey to meet Altaf Zardari. Zardari and his non-Indian wife live a peaceful life, but the wife does not remember losing her baby girl in the fire that demolished the hospital Tanya was born in. Tanya helps her regain her memory about the incident and to accept her daughter's death. A heartbroken Tanya returns to India to her foster parents.\n",
        "\n",
        "She then embarks on one last mission to find her father, this time to see Tony Castello, a mafia leader. Initially doubtful of her, he meets up with his ex-flame, Susan, who is now a nun. Eventually, after a gang fight, Tony accepts Tanya as his daughter and the movie ends with her and her best friend marrying in a church, with all four of Tanya's fathers walking her down the aisle. '''"
      ],
      "metadata": {
        "id": "SIz29hrPp2JN"
      },
      "execution_count": null,
      "outputs": []
    },
    {
      "cell_type": "code",
      "execution_count": null,
      "metadata": {
        "id": "nkTLmROaiaSq"
      },
      "outputs": [],
      "source": [
        "def main_pipe():\n",
        "  nlp = spacy.load('en_core_web_md')\n",
        "  nlp.add_pipe('merge_entities')\n",
        "  nlp.add_pipe('merge_noun_chunks')\n",
        "\n",
        "def display(doc):\n",
        "  for token in doc:\n",
        "    print(token.text, token.pos_, token.dep_, [ancestor for ancestor in token.ancestors], [children for children in token.children])\n",
        "\n",
        "def word_in_csv(word, path):\n",
        "    with open(path, 'r') as file:\n",
        "        reader = csv.reader(file)\n",
        "        for row in reader:\n",
        "            if word in row:\n",
        "                return True\n",
        "    return False"
      ]
    },
    {
      "cell_type": "code",
      "source": [
        "nlp = spacy.load('en_core_web_md')\n",
        "nlp.add_pipe('merge_entities')\n",
        "nlp.add_pipe('merge_noun_chunks')"
      ],
      "metadata": {
        "colab": {
          "base_uri": "https://localhost:8080/",
          "height": 187
        },
        "id": "XAtJWDlwLKjM",
        "outputId": "8b8a7553-4419-4cc8-bba4-634759a5bf15"
      },
      "execution_count": null,
      "outputs": [
        {
          "output_type": "execute_result",
          "data": {
            "text/plain": [
              "<function spacy.pipeline.functions.merge_noun_chunks(doc: spacy.tokens.doc.Doc) -> spacy.tokens.doc.Doc>"
            ],
            "text/html": [
              "<div style=\"max-width:800px; border: 1px solid var(--colab-border-color);\"><style>\n",
              "      pre.function-repr-contents {\n",
              "        overflow-x: auto;\n",
              "        padding: 8px 12px;\n",
              "        max-height: 500px;\n",
              "      }\n",
              "\n",
              "      pre.function-repr-contents.function-repr-contents-collapsed {\n",
              "        cursor: pointer;\n",
              "        max-height: 100px;\n",
              "      }\n",
              "    </style>\n",
              "    <pre style=\"white-space: initial; background:\n",
              "         var(--colab-secondary-surface-color); padding: 8px 12px;\n",
              "         border-bottom: 1px solid var(--colab-border-color);\"><b>spacy.pipeline.functions.merge_noun_chunks</b><br/>def merge_noun_chunks(doc: Doc) -&gt; Doc</pre><pre class=\"function-repr-contents function-repr-contents-collapsed\" style=\"\"><a class=\"filepath\" style=\"display:none\" href=\"#\">/usr/local/lib/python3.10/dist-packages/spacy/pipeline/functions.py</a>Merge noun chunks into a single token.\n",
              "\n",
              "doc (Doc): The Doc object.\n",
              "RETURNS (Doc): The Doc object with merged noun chunks.\n",
              "\n",
              "DOCS: https://spacy.io/api/pipeline-functions#merge_noun_chunks</pre>\n",
              "      <script>\n",
              "      if (google.colab.kernel.accessAllowed && google.colab.files && google.colab.files.view) {\n",
              "        for (const element of document.querySelectorAll('.filepath')) {\n",
              "          element.style.display = 'block'\n",
              "          element.onclick = (event) => {\n",
              "            event.preventDefault();\n",
              "            event.stopPropagation();\n",
              "            google.colab.files.view(element.textContent, 13);\n",
              "          };\n",
              "        }\n",
              "      }\n",
              "      for (const element of document.querySelectorAll('.function-repr-contents')) {\n",
              "        element.onclick = (event) => {\n",
              "          event.preventDefault();\n",
              "          event.stopPropagation();\n",
              "          element.classList.toggle('function-repr-contents-collapsed');\n",
              "        };\n",
              "      }\n",
              "      </script>\n",
              "      </div>"
            ]
          },
          "metadata": {},
          "execution_count": 133
        }
      ]
    },
    {
      "cell_type": "code",
      "execution_count": null,
      "metadata": {
        "id": "yU-KgjX6oBYS"
      },
      "outputs": [],
      "source": [
        "def propn_extractor(doc):\n",
        "  nlp = spacy.load('en_core_web_md')\n",
        "  nlp.add_pipe('merge_entities')\n",
        "  nlp.add_pipe('merge_noun_chunks')\n",
        "  h = []\n",
        "  for token in doc:\n",
        "    if token.pos_ == 'PROPN' and token.ent_type_ == 'PERSON':\n",
        "      h.append([token.text, []])\n",
        "      set1 = set([anc for anc in token.ancestors if anc.pos_ not in ['PROP', 'CCONJ', 'AUX', 'DET', 'SCONJ', 'ADP'] and anc.dep_ not in ['ccomp', 'xcomp', 'pcomp']])\n",
        "      set2 = set([child for child in token.children if child.pos_ not in ['PROP', 'CCONJ', 'AUX', 'DET', 'SCONJ', 'ADP'] and child.dep_ not in ['ccomp', 'xcomp', 'pcomp']])\n",
        "      merged_list = list(set1.union(set2))\n",
        "      h[-1][1] = merged_list\n",
        "  d = {}\n",
        "  for key, value in h:\n",
        "    if key not in d.keys():\n",
        "        d[key] = [key]\n",
        "    d[key].append(value)\n",
        "  result = list(d.values())\n",
        "  for sublist in result:\n",
        "    unique_elements = []\n",
        "    for item in sublist[1:]:\n",
        "        if isinstance(item, list):\n",
        "            unique_elements.extend(item)\n",
        "        else:\n",
        "            unique_elements.append(item)\n",
        "    sublist[1:] = [list(set(unique_elements))]\n",
        "  nlp = spacy.load('en_core_web_sm')\n",
        "  for x in result:\n",
        "    newu = []\n",
        "    for y in x[1]:\n",
        "      doc = nlp(y.text)\n",
        "      filtered_words = [token.text for token in doc if not token.is_stop]\n",
        "      newu.append(' '.join(filtered_words))\n",
        "    x[1] = newu\n",
        "  flag = '0'\n",
        "  while flag != '':\n",
        "    flag = ''\n",
        "    for i in result:\n",
        "        for j in i[1]:\n",
        "          if (j.lower() not in kinship_terms):\n",
        "            if (len(j.split()) == 1) and (word_in_csv(j.lower(), path1) == False):\n",
        "                flag = '0'\n",
        "                i[1].remove(j)\n",
        "  for i in result:\n",
        "    for j in i[1]:\n",
        "      if j == '' or j == ',':\n",
        "        i[1].remove(j)\n",
        "  return result"
      ]
    },
    {
      "cell_type": "code",
      "execution_count": null,
      "metadata": {
        "id": "NPATqSRoorQY"
      },
      "outputs": [],
      "source": [
        "doc4 = nlp(text4)\n",
        "h = propn_extractor(doc4)"
      ]
    },
    {
      "cell_type": "code",
      "execution_count": null,
      "metadata": {
        "colab": {
          "base_uri": "https://localhost:8080/"
        },
        "id": "dCgNH8UIo1SI",
        "outputId": "43c036ea-a47c-4f8f-cf63-c4f4d476090e"
      },
      "outputs": [
        {
          "output_type": "stream",
          "name": "stdout",
          "text": [
            "['Rohan Bhatia', ['fresh MBA graduate']]\n",
            "['Dalip Bhatia', ['father']]\n",
            "['Rohan', ['set']]\n",
            "['Abhay', ['fellow MBA graduate', 'best friend']]\n",
            "['Neha Kapoor', ['rejected']]\n",
            "['Vikram Khurrana', ['firm best stockbroker']]\n",
            "['Vikram', []]\n",
            "['Amrita Singhania', ['wealthy society lady']]\n",
            "['Amrita', []]\n"
          ]
        }
      ],
      "source": [
        "for x in h:\n",
        "  print(x)"
      ]
    },
    {
      "cell_type": "code",
      "source": [
        "from sentence_transformers import SentenceTransformer, util\n",
        "model = SentenceTransformer(\"Sakil/sentence_similarity_semantic_search\")"
      ],
      "metadata": {
        "id": "ypSMmDjyCqaV"
      },
      "execution_count": null,
      "outputs": []
    },
    {
      "cell_type": "code",
      "source": [
        "import pandas as pd\n",
        "fem = pd.read_csv('/content/female_adjectives.csv', usecols = [0], header = None)"
      ],
      "metadata": {
        "id": "ds3OFrAaqlUE"
      },
      "execution_count": null,
      "outputs": []
    },
    {
      "cell_type": "code",
      "source": [
        "fem.dropna(inplace = True)\n",
        "fem.reset_index(inplace = True)\n",
        "fem.drop(columns = ['index'], inplace = True)"
      ],
      "metadata": {
        "id": "kKmFLrryrxtM"
      },
      "execution_count": null,
      "outputs": []
    },
    {
      "cell_type": "code",
      "source": [
        "vis_desc = []\n",
        "for i in fem[0]:\n",
        "  if util.cos_sim(model.encode('beautiful'), model.encode(i)) > 0.8:\n",
        "    vis_desc.append(i)"
      ],
      "metadata": {
        "id": "nvCZrqPat0MH"
      },
      "execution_count": null,
      "outputs": []
    },
    {
      "cell_type": "code",
      "source": [
        "vis_desc2 = []\n",
        "for i in fem[0]:\n",
        "  if util.cos_sim(model.encode('wealthy'), model.encode(i)) > 0.6:\n",
        "    vis_desc2.append(i)"
      ],
      "metadata": {
        "id": "-1BbhDRyw8us"
      },
      "execution_count": 141,
      "outputs": []
    },
    {
      "cell_type": "code",
      "source": [
        "vis_desc = list(set(vis_desc))"
      ],
      "metadata": {
        "id": "M5E0k3CmsnzK"
      },
      "execution_count": 142,
      "outputs": []
    },
    {
      "cell_type": "code",
      "source": [
        "vis_desc2 = list(set(vis_desc2))"
      ],
      "metadata": {
        "id": "vP-pG5sUDxHx"
      },
      "execution_count": 143,
      "outputs": []
    },
    {
      "cell_type": "code",
      "source": [
        "jobs = pd.read_csv(path2)"
      ],
      "metadata": {
        "id": "PXozK9dE8skf"
      },
      "execution_count": 144,
      "outputs": []
    },
    {
      "cell_type": "code",
      "source": [
        "def abstraction(h):\n",
        "  flag = 0\n",
        "  x = 0\n",
        "  y = 0\n",
        "  h1 = h.copy()\n",
        "  for i in h1:\n",
        "    nul = []\n",
        "    for j in i[1]:\n",
        "      words = nlp(j)\n",
        "      for token in words:\n",
        "          for v in vis_desc:\n",
        "            x += util.cos_sim(model.encode(token.text), model.encode(v))\n",
        "          avg1 = x/len(vis_desc)\n",
        "          for w in vis_desc2:\n",
        "            y += util.cos_sim(model.encode(token.text), model.encode(w))\n",
        "          avg2 = y/len(vis_desc2)\n",
        "          if (token.text in list(jobs['Title'])):\n",
        "            nul.append('P')\n",
        "            flag = 1\n",
        "          elif (token.text in kinship_terms):\n",
        "            nul.append('X')\n",
        "          elif (avg1 > 0.5 or avg2 > 0.5):\n",
        "            nul.append('X')\n",
        "          else:\n",
        "            nul.append('A')\n",
        "          i[1] = nul\n",
        "  return h1"
      ],
      "metadata": {
        "id": "fSX-RG-a5783"
      },
      "execution_count": 145,
      "outputs": []
    },
    {
      "cell_type": "code",
      "source": [
        "print(abstraction(propn_extractor(nlp(text4))))"
      ],
      "metadata": {
        "id": "Wi0OhMLybWl3",
        "colab": {
          "base_uri": "https://localhost:8080/"
        },
        "outputId": "f84c17b9-804e-4f93-c2a1-3115f21746b3"
      },
      "execution_count": 146,
      "outputs": [
        {
          "output_type": "stream",
          "name": "stdout",
          "text": [
            "[['Rohan Bhatia', ['A']], ['Dalip Bhatia', ['X']], ['Rohan', ['X']], ['Abhay', ['X', 'X']], ['Neha Kapoor', ['X']], ['Vikram Khurrana', ['X']], ['Vikram', []], ['Amrita Singhania', ['X']], ['Amrita', []]]\n"
          ]
        }
      ]
    },
    {
      "cell_type": "code",
      "source": [
        "def final_attr_score(text):\n",
        "  import gender_guesser.detector as gender\n",
        "  d = gender.Detector()\n",
        "  male_score = 0\n",
        "  female_score = 0\n",
        "  h = abstraction(propn_extractor(nlp(text)))\n",
        "  names = [x[0] for x in h]\n",
        "  scores = []\n",
        "  for i in h:\n",
        "    score = 0\n",
        "    for j in i[1]:\n",
        "      if (j == 'A'):\n",
        "        score = score + 1\n",
        "      if (j == 'X'):\n",
        "        score = score - 1\n",
        "      if (j == 'P'):\n",
        "        score = score + 2\n",
        "    scores.append(score)\n",
        "  for i, name in enumerate(names):\n",
        "    if (d.get_gender(name) == 'male'):\n",
        "      male_score += scores[i]\n",
        "    elif (d.get_gender(name) == 'female'):\n",
        "      female_score += scores[i]\n",
        "  if (male_score > female_score):\n",
        "    print(\"This plot may have sexist undertones\")\n",
        "  elif (female_score > male_score):\n",
        "    print(\"This plot does not have sexist undertones\")\n",
        "  else:\n",
        "    print(\"This plot is neutral\")"
      ],
      "metadata": {
        "id": "YfDUAIP_Y_f5"
      },
      "execution_count": null,
      "outputs": []
    },
    {
      "cell_type": "code",
      "source": [
        "def centrality_comparison(text):\n",
        "  female_centr = 0\n",
        "  male_centr = 0\n",
        "  import gender_guesser.detector as gender\n",
        "  d = gender.Detector()\n",
        "  centr_doc = nlp(text)\n",
        "  names = [x[0] for x in propn_extractor(centr_doc)]\n",
        "  centr_list = []\n",
        "  centrindex = 0\n",
        "  for i in names:\n",
        "    centrindex = 0\n",
        "    for j in centr_doc:\n",
        "      if (j.text == i) and (j.dep_ == 'nsubj' or j.dep_ == 'dobj'):\n",
        "        centrindex = centrindex + 1\n",
        "    centr_list.append(centrindex)\n",
        "  for i, name in enumerate(names):\n",
        "    if (d.get_gender(name) == 'male'):\n",
        "      male_centr += centr_list[i]\n",
        "    elif (d.get_gender(name) == 'female'):\n",
        "      female_centr += centr_list[i]\n",
        "  if (male_centr > female_centr):\n",
        "    print(f\"Males have more centrality than females in the plot by a ratio of {male_centr / female_centr}\")\n",
        "  elif (female_centr > male_centr):\n",
        "    print(f\"Females have more centrality than males in the plot by a ratio of {female_centr / male_centr}\")\n",
        "  else:\n",
        "    print(\"Centrality is equal for both genders\")"
      ],
      "metadata": {
        "id": "oRApwuC1VDzF"
      },
      "execution_count": null,
      "outputs": []
    },
    {
      "cell_type": "code",
      "source": [
        "final_attr_score(text3)"
      ],
      "metadata": {
        "id": "gsUpCiQLZzUb"
      },
      "execution_count": null,
      "outputs": []
    },
    {
      "cell_type": "code",
      "source": [
        "centrality_comparison(text4)"
      ],
      "metadata": {
        "id": "WSPyNiNxV33n",
        "colab": {
          "base_uri": "https://localhost:8080/"
        },
        "outputId": "adcd0a89-76be-4d4f-e995-578694d8ed66"
      },
      "execution_count": 150,
      "outputs": [
        {
          "metadata": {
            "tags": null
          },
          "name": "stdout",
          "output_type": "stream",
          "text": [
            "Males have more centrality than females in the plot by a ratio of 4.0\n"
          ]
        }
      ]
    }
  ],
  "metadata": {
    "colab": {
      "provenance": [],
      "authorship_tag": "ABX9TyNkip+ZTNipIBitBe7fxRbo",
      "include_colab_link": true
    },
    "kernelspec": {
      "display_name": "Python 3",
      "name": "python3"
    },
    "language_info": {
      "name": "python"
    }
  },
  "nbformat": 4,
  "nbformat_minor": 0
}